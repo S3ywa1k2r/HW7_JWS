{
 "cells": [
  {
   "cell_type": "code",
   "execution_count": 6,
   "id": "1190793a",
   "metadata": {},
   "outputs": [
    {
     "name": "stdout",
     "output_type": "stream",
     "text": [
      "Eigenvalues: [-0.37228132  5.37228132]\n",
      "Eigenvectors: [[-0.82456484 -0.41597356]\n",
      " [ 0.56576746 -0.90937671]]\n",
      "Determinant: -2.0000000000000004\n",
      "Cross product: [-3  6 -3]\n",
      "Solution: [[-1.]\n",
      " [-4.]\n",
      " [ 3.]]\n"
     ]
    }
   ],
   "source": [
    "import numpy as np\n",
    "\n",
    "def main():\n",
    "    arr = np.array([[1, 2], [3, 4]])\n",
    "    eigenvalues, eigenvectors = np.linalg.eig(arr)\n",
    "    determinant = np.linalg.det(arr)\n",
    "    vec1=np.array([1,2,3])\n",
    "    vec2=np.array([4,5,6])\n",
    "    cross_product=np.cross(vec1,vec2)\n",
    "    coefficients = np.array([[1, 2, -2], [2, 1, -5], [1, -4, 1]])\n",
    "    constants = np.array([[-15], [-21], [18]])\n",
    "    solution = np.linalg.solve(coefficients, constants)\n",
    "    print('Eigenvalues:',eigenvalues)\n",
    "    print('Eigenvectors:',eigenvectors)\n",
    "    print('Determinant:',determinant)\n",
    "    print('Cross product:',cross_product)\n",
    "    print('Solution:',solution)\n",
    "    \n",
    "if __name__ =='__main__':\n",
    "    main()"
   ]
  },
  {
   "cell_type": "code",
   "execution_count": null,
   "id": "5485d4c6",
   "metadata": {},
   "outputs": [],
   "source": []
  }
 ],
 "metadata": {
  "kernelspec": {
   "display_name": "Python 3 (ipykernel)",
   "language": "python",
   "name": "python3"
  },
  "language_info": {
   "codemirror_mode": {
    "name": "ipython",
    "version": 3
   },
   "file_extension": ".py",
   "mimetype": "text/x-python",
   "name": "python",
   "nbconvert_exporter": "python",
   "pygments_lexer": "ipython3",
   "version": "3.11.2"
  }
 },
 "nbformat": 4,
 "nbformat_minor": 5
}
